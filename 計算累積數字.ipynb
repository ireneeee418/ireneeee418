{
  "nbformat": 4,
  "nbformat_minor": 0,
  "metadata": {
    "colab": {
      "provenance": [],
      "authorship_tag": "ABX9TyP2wmGFjUCk3V7ZynhH+lNo",
      "include_colab_link": true
    },
    "kernelspec": {
      "name": "python3",
      "display_name": "Python 3"
    },
    "language_info": {
      "name": "python"
    }
  },
  "cells": [
    {
      "cell_type": "markdown",
      "metadata": {
        "id": "view-in-github",
        "colab_type": "text"
      },
      "source": [
        "<a href=\"https://colab.research.google.com/github/ireneeee418/ireneeee418/blob/main/%E8%A8%88%E7%AE%97%E7%B4%AF%E7%A9%8D%E6%95%B8%E5%AD%97.ipynb\" target=\"_parent\"><img src=\"https://colab.research.google.com/assets/colab-badge.svg\" alt=\"Open In Colab\"/></a>"
      ]
    },
    {
      "cell_type": "code",
      "execution_count": 2,
      "metadata": {
        "id": "fwcVskjWllIT"
      },
      "outputs": [],
      "source": [
        "Q1 = 26295929"
      ]
    },
    {
      "cell_type": "code",
      "source": [
        "Q2 = 27668242"
      ],
      "metadata": {
        "id": "Q5L9Sbc6pYr7"
      },
      "execution_count": 3,
      "outputs": []
    },
    {
      "cell_type": "code",
      "source": [
        "Q3 = 27002293"
      ],
      "metadata": {
        "id": "_feyyfe7tlEJ"
      },
      "execution_count": 4,
      "outputs": []
    },
    {
      "cell_type": "code",
      "source": [
        "Q4 = 28347871"
      ],
      "metadata": {
        "id": "CMfysoqAto15"
      },
      "execution_count": 5,
      "outputs": []
    },
    {
      "cell_type": "code",
      "source": [
        "ACC_Q1 = Q1\n",
        "print(ACC_Q1)"
      ],
      "metadata": {
        "colab": {
          "base_uri": "https://localhost:8080/"
        },
        "id": "MB-WSnejuKuY",
        "outputId": "a335b039-7150-4c73-c49f-0df90b8156f2"
      },
      "execution_count": 6,
      "outputs": [
        {
          "output_type": "stream",
          "name": "stdout",
          "text": [
            "26295929\n"
          ]
        }
      ]
    },
    {
      "cell_type": "code",
      "source": [
        "ACC_Q2 = Q1 + Q2\n",
        "print(ACC_Q2)"
      ],
      "metadata": {
        "colab": {
          "base_uri": "https://localhost:8080/"
        },
        "id": "9eKBNhe5uhKp",
        "outputId": "456ad1e7-8b98-4743-9f3c-db16430b601e"
      },
      "execution_count": 7,
      "outputs": [
        {
          "output_type": "stream",
          "name": "stdout",
          "text": [
            "53964171\n"
          ]
        }
      ]
    },
    {
      "cell_type": "code",
      "source": [
        "ACC_Q3 = Q1 + Q2 +Q3\n",
        "print(ACC_Q3)"
      ],
      "metadata": {
        "colab": {
          "base_uri": "https://localhost:8080/"
        },
        "id": "40isexQaupDZ",
        "outputId": "4f2d18c0-c29e-401e-b0e3-93d323a81854"
      },
      "execution_count": 8,
      "outputs": [
        {
          "output_type": "stream",
          "name": "stdout",
          "text": [
            "80966464\n"
          ]
        }
      ]
    },
    {
      "cell_type": "code",
      "source": [
        "ACC_Q4 = Q1 + Q2 + Q3 + Q4\n",
        "print(ACC_Q4)"
      ],
      "metadata": {
        "colab": {
          "base_uri": "https://localhost:8080/"
        },
        "id": "VnRQmmu1vG8B",
        "outputId": "e19aede2-dbf5-420e-bb66-099514644b31"
      },
      "execution_count": 10,
      "outputs": [
        {
          "output_type": "stream",
          "name": "stdout",
          "text": [
            "109314335\n"
          ]
        }
      ]
    },
    {
      "cell_type": "code",
      "source": [],
      "metadata": {
        "id": "SpeI3OIYvM1B"
      },
      "execution_count": null,
      "outputs": []
    }
  ]
}